{
 "cells": [
  {
   "cell_type": "code",
   "execution_count": 1,
   "id": "0af3f483",
   "metadata": {},
   "outputs": [
    {
     "name": "stdout",
     "output_type": "stream",
     "text": [
      "Looking in indexes: https://artifacts-prod-use1.pinadmin.com/artifactory/api/pypi/pinterest-python-pip-prod-virtual/simple/\n",
      "Collecting onnxruntime\n",
      "  Downloading https://artifacts-prod-use1.pinadmin.com/artifactory/api/pypi/pinterest-python-pip-prod-virtual/packages/packages/e0/c1/236fe9621584f32ffd6c1eeba4005f1c2932d2e21ef901c321ae51b9219d/onnxruntime-1.16.1-cp310-cp310-manylinux_2_17_x86_64.manylinux2014_x86_64.whl (6.2 MB)\n",
      "\u001b[2K     \u001b[90m━━━━━━━━━━━━━━━━━━━━━━━━━━━━━━━━━━━━━━━━\u001b[0m \u001b[32m6.2/6.2 MB\u001b[0m \u001b[31m136.4 MB/s\u001b[0m eta \u001b[36m0:00:00\u001b[0m00:01\u001b[0m\n",
      "\u001b[?25hCollecting coloredlogs (from onnxruntime)\n",
      "  Downloading https://artifacts-prod-use1.pinadmin.com/artifactory/api/pypi/pinterest-python-pip-prod-virtual/packages/packages/a7/06/3d6badcf13db419e25b07041d9c7b4a2c331d3f4e7134445ec5df57714cd/coloredlogs-15.0.1-py2.py3-none-any.whl (46 kB)\n",
      "\u001b[2K     \u001b[90m━━━━━━━━━━━━━━━━━━━━━━━━━━━━━━━━━━━━━━━━\u001b[0m \u001b[32m46.0/46.0 kB\u001b[0m \u001b[31m7.0 MB/s\u001b[0m eta \u001b[36m0:00:00\u001b[0m\n",
      "\u001b[?25hRequirement already satisfied: flatbuffers in /home/ishpuntov/miniconda3/envs/animatediff/lib/python3.10/site-packages (from onnxruntime) (23.5.26)\n",
      "Requirement already satisfied: numpy>=1.21.6 in /home/ishpuntov/miniconda3/envs/animatediff/lib/python3.10/site-packages (from onnxruntime) (1.24.3)\n",
      "Requirement already satisfied: packaging in /home/ishpuntov/miniconda3/envs/animatediff/lib/python3.10/site-packages (from onnxruntime) (23.1)\n",
      "Requirement already satisfied: protobuf in /home/ishpuntov/miniconda3/envs/animatediff/lib/python3.10/site-packages (from onnxruntime) (3.20.3)\n",
      "Requirement already satisfied: sympy in /home/ishpuntov/miniconda3/envs/animatediff/lib/python3.10/site-packages (from onnxruntime) (1.11.1)\n",
      "Collecting humanfriendly>=9.1 (from coloredlogs->onnxruntime)\n",
      "  Downloading https://artifacts-prod-use1.pinadmin.com/artifactory/api/pypi/pinterest-python-pip-prod-virtual/packages/packages/f0/0f/310fb31e39e2d734ccaa2c0fb981ee41f7bd5056ce9bc29b2248bd569169/humanfriendly-10.0-py2.py3-none-any.whl (86 kB)\n",
      "\u001b[2K     \u001b[90m━━━━━━━━━━━━━━━━━━━━━━━━━━━━━━━━━━━━━━━━\u001b[0m \u001b[32m86.8/86.8 kB\u001b[0m \u001b[31m14.3 MB/s\u001b[0m eta \u001b[36m0:00:00\u001b[0m\n",
      "\u001b[?25hRequirement already satisfied: mpmath>=0.19 in /home/ishpuntov/miniconda3/envs/animatediff/lib/python3.10/site-packages (from sympy->onnxruntime) (1.3.0)\n",
      "Installing collected packages: humanfriendly, coloredlogs, onnxruntime\n",
      "Successfully installed coloredlogs-15.0.1 humanfriendly-10.0 onnxruntime-1.16.1\n"
     ]
    }
   ],
   "source": [
    "import sys\n",
    "!{sys.executable} -m pip install onnxruntime"
   ]
  },
  {
   "cell_type": "code",
   "execution_count": 1,
   "id": "da50687b",
   "metadata": {},
   "outputs": [
    {
     "name": "stderr",
     "output_type": "stream",
     "text": [
      "Matplotlib created a temporary cache directory at /tmp/matplotlib-m3z1fid6 because the default path (/home/ishpuntov/.config/matplotlib) is not a writable directory; it is highly recommended to set the MPLCONFIGDIR environment variable to a writable directory, in particular to speed up the import of Matplotlib and to better support multiprocessing.\n"
     ]
    },
    {
     "data": {
      "text/html": [
       "<pre style=\"white-space:pre;overflow-x:auto;line-height:normal;font-family:Menlo,'DejaVu Sans Mono',consolas,'Courier New',monospace\"><span style=\"color: #7fbfbf; text-decoration-color: #7fbfbf\">19:30:52 </span><span style=\"color: #000080; text-decoration-color: #000080\">INFO    </span> Note: NumExpr detected <span style=\"color: #008080; text-decoration-color: #008080; font-weight: bold\">48</span> cores but <span style=\"color: #008000; text-decoration-color: #008000\">\"NUMEXPR_MAX_THREADS\"</span> not set, so enforcing safe <a href=\"file:///home/ishpuntov/miniconda3/envs/animatediff/lib/python3.10/site-packages/numexpr/utils.py\" target=\"_blank\"><span style=\"color: #7f7f7f; text-decoration-color: #7f7f7f\">utils.py</span></a><span style=\"color: #7f7f7f; text-decoration-color: #7f7f7f\">:</span><a href=\"file:///home/ishpuntov/miniconda3/envs/animatediff/lib/python3.10/site-packages/numexpr/utils.py#148\" target=\"_blank\"><span style=\"color: #7f7f7f; text-decoration-color: #7f7f7f\">148</span></a>\n",
       "<span style=\"color: #7fbfbf; text-decoration-color: #7fbfbf\">         </span>         limit of <span style=\"color: #008080; text-decoration-color: #008080; font-weight: bold\">8</span>.                                                                          <span style=\"color: #7f7f7f; text-decoration-color: #7f7f7f\">            </span>\n",
       "</pre>\n"
      ],
      "text/plain": [
       "\u001b[2;36m19:30:52\u001b[0m\u001b[2;36m \u001b[0m\u001b[34mINFO    \u001b[0m Note: NumExpr detected \u001b[1;36m48\u001b[0m cores but \u001b[32m\"NUMEXPR_MAX_THREADS\"\u001b[0m not set, so enforcing safe \u001b]8;id=920197;file:///home/ishpuntov/miniconda3/envs/animatediff/lib/python3.10/site-packages/numexpr/utils.py\u001b\\\u001b[2mutils.py\u001b[0m\u001b]8;;\u001b\\\u001b[2m:\u001b[0m\u001b]8;id=669325;file:///home/ishpuntov/miniconda3/envs/animatediff/lib/python3.10/site-packages/numexpr/utils.py#148\u001b\\\u001b[2m148\u001b[0m\u001b]8;;\u001b\\\n",
       "\u001b[2;36m         \u001b[0m         limit of \u001b[1;36m8\u001b[0m.                                                                          \u001b[2m            \u001b[0m\n"
      ]
     },
     "metadata": {},
     "output_type": "display_data"
    },
    {
     "data": {
      "text/html": [
       "<pre style=\"white-space:pre;overflow-x:auto;line-height:normal;font-family:Menlo,'DejaVu Sans Mono',consolas,'Courier New',monospace\"><span style=\"color: #7fbfbf; text-decoration-color: #7fbfbf\">         </span><span style=\"color: #000080; text-decoration-color: #000080\">INFO    </span> NumExpr defaulting to <span style=\"color: #008080; text-decoration-color: #008080; font-weight: bold\">8</span> threads.                                                     <a href=\"file:///home/ishpuntov/miniconda3/envs/animatediff/lib/python3.10/site-packages/numexpr/utils.py\" target=\"_blank\"><span style=\"color: #7f7f7f; text-decoration-color: #7f7f7f\">utils.py</span></a><span style=\"color: #7f7f7f; text-decoration-color: #7f7f7f\">:</span><a href=\"file:///home/ishpuntov/miniconda3/envs/animatediff/lib/python3.10/site-packages/numexpr/utils.py#160\" target=\"_blank\"><span style=\"color: #7f7f7f; text-decoration-color: #7f7f7f\">160</span></a>\n",
       "</pre>\n"
      ],
      "text/plain": [
       "\u001b[2;36m        \u001b[0m\u001b[2;36m \u001b[0m\u001b[34mINFO    \u001b[0m NumExpr defaulting to \u001b[1;36m8\u001b[0m threads.                                                     \u001b]8;id=966306;file:///home/ishpuntov/miniconda3/envs/animatediff/lib/python3.10/site-packages/numexpr/utils.py\u001b\\\u001b[2mutils.py\u001b[0m\u001b]8;;\u001b\\\u001b[2m:\u001b[0m\u001b]8;id=188987;file:///home/ishpuntov/miniconda3/envs/animatediff/lib/python3.10/site-packages/numexpr/utils.py#160\u001b\\\u001b[2m160\u001b[0m\u001b]8;;\u001b\\\n"
      ]
     },
     "metadata": {},
     "output_type": "display_data"
    }
   ],
   "source": [
    "from animatediff.cli import generate"
   ]
  },
  {
   "cell_type": "code",
   "execution_count": 2,
   "id": "2b27618f",
   "metadata": {},
   "outputs": [],
   "source": [
    "import torch"
   ]
  },
  {
   "cell_type": "code",
   "execution_count": 3,
   "id": "45521308",
   "metadata": {},
   "outputs": [],
   "source": [
    "torch.cuda.set_device('cuda:2')"
   ]
  },
  {
   "cell_type": "code",
   "execution_count": null,
   "id": "091f0616",
   "metadata": {},
   "outputs": [],
   "source": []
  },
  {
   "cell_type": "code",
   "execution_count": 4,
   "id": "151ff21e",
   "metadata": {},
   "outputs": [
    {
     "data": {
      "text/html": [
       "<pre style=\"white-space:pre;overflow-x:auto;line-height:normal;font-family:Menlo,'DejaVu Sans Mono',consolas,'Courier New',monospace\"><span style=\"color: #7fbfbf; text-decoration-color: #7fbfbf\">19:31:31 </span><span style=\"color: #000080; text-decoration-color: #000080\">INFO    </span> Using generation config: config/prompts/<span style=\"color: #008080; text-decoration-color: #008080; font-weight: bold\">01</span>-ToonYou.json                                <a href=\"file:///home/ishpuntov/code/animatediff-cli-prompt-travel/src/animatediff/cli.py\" target=\"_blank\"><span style=\"color: #7f7f7f; text-decoration-color: #7f7f7f\">cli.py</span></a><span style=\"color: #7f7f7f; text-decoration-color: #7f7f7f\">:</span><a href=\"file:///home/ishpuntov/code/animatediff-cli-prompt-travel/src/animatediff/cli.py#288\" target=\"_blank\"><span style=\"color: #7f7f7f; text-decoration-color: #7f7f7f\">288</span></a>\n",
       "</pre>\n"
      ],
      "text/plain": [
       "\u001b[2;36m19:31:31\u001b[0m\u001b[2;36m \u001b[0m\u001b[34mINFO    \u001b[0m Using generation config: config/prompts/\u001b[1;36m01\u001b[0m-ToonYou.json                                \u001b]8;id=817416;file:///home/ishpuntov/code/animatediff-cli-prompt-travel/src/animatediff/cli.py\u001b\\\u001b[2mcli.py\u001b[0m\u001b]8;;\u001b\\\u001b[2m:\u001b[0m\u001b]8;id=166229;file:///home/ishpuntov/code/animatediff-cli-prompt-travel/src/animatediff/cli.py#288\u001b\\\u001b[2m288\u001b[0m\u001b]8;;\u001b\\\n"
      ]
     },
     "metadata": {},
     "output_type": "display_data"
    },
    {
     "ename": "FileNotFoundError",
     "evalue": "ModelConfig: config #1 at /home/ishpuntov/code/animatediff-cli-prompt-travel/src/animatediff/config/prompts/01-ToonYou.json not found or not a file",
     "output_type": "error",
     "traceback": [
      "\u001b[0;31m---------------------------------------------------------------------------\u001b[0m",
      "\u001b[0;31mFileNotFoundError\u001b[0m                         Traceback (most recent call last)",
      "Cell \u001b[0;32mIn[4], line 1\u001b[0m\n\u001b[0;32m----> 1\u001b[0m \u001b[43mgenerate\u001b[49m\u001b[43m(\u001b[49m\u001b[43m)\u001b[49m\n",
      "File \u001b[0;32m~/code/animatediff-cli-prompt-travel/src/animatediff/cli.py:289\u001b[0m, in \u001b[0;36mgenerate\u001b[0;34m(model_name_or_path, config_path, width, height, length, context, overlap, stride, repeats, device, use_xformers, force_half_vae, out_dir, no_frames, save_merged, version)\u001b[0m\n\u001b[1;32m    287\u001b[0m config_path \u001b[38;5;241m=\u001b[39m config_path\u001b[38;5;241m.\u001b[39mabsolute()\n\u001b[1;32m    288\u001b[0m logger\u001b[38;5;241m.\u001b[39minfo(\u001b[38;5;124mf\u001b[39m\u001b[38;5;124m\"\u001b[39m\u001b[38;5;124mUsing generation config: \u001b[39m\u001b[38;5;132;01m{\u001b[39;00mpath_from_cwd(config_path)\u001b[38;5;132;01m}\u001b[39;00m\u001b[38;5;124m\"\u001b[39m)\n\u001b[0;32m--> 289\u001b[0m model_config: ModelConfig \u001b[38;5;241m=\u001b[39m \u001b[43mget_model_config\u001b[49m\u001b[43m(\u001b[49m\u001b[43mconfig_path\u001b[49m\u001b[43m)\u001b[49m\n\u001b[1;32m    290\u001b[0m is_v2 \u001b[38;5;241m=\u001b[39m is_v2_motion_module(data_dir\u001b[38;5;241m.\u001b[39mjoinpath(model_config\u001b[38;5;241m.\u001b[39mmotion_module))\n\u001b[1;32m    291\u001b[0m infer_config: InferenceConfig \u001b[38;5;241m=\u001b[39m get_infer_config(is_v2)\n",
      "File \u001b[0;32m~/code/animatediff-cli-prompt-travel/src/animatediff/settings.py:134\u001b[0m, in \u001b[0;36mget_model_config\u001b[0;34m(config_path)\u001b[0m\n\u001b[1;32m    132\u001b[0m \u001b[38;5;129m@lru_cache\u001b[39m(maxsize\u001b[38;5;241m=\u001b[39m\u001b[38;5;241m2\u001b[39m)\n\u001b[1;32m    133\u001b[0m \u001b[38;5;28;01mdef\u001b[39;00m \u001b[38;5;21mget_model_config\u001b[39m(config_path: Path) \u001b[38;5;241m-\u001b[39m\u001b[38;5;241m>\u001b[39m ModelConfig:\n\u001b[0;32m--> 134\u001b[0m     settings \u001b[38;5;241m=\u001b[39m \u001b[43mModelConfig\u001b[49m\u001b[43m(\u001b[49m\u001b[43mjson_config_path\u001b[49m\u001b[38;5;241;43m=\u001b[39;49m\u001b[43mconfig_path\u001b[49m\u001b[43m)\u001b[49m\n\u001b[1;32m    135\u001b[0m     \u001b[38;5;28;01mreturn\u001b[39;00m settings\n",
      "File \u001b[0;32m~/miniconda3/envs/animatediff/lib/python3.10/site-packages/pydantic/env_settings.py:41\u001b[0m, in \u001b[0;36mpydantic.env_settings.BaseSettings.__init__\u001b[0;34m()\u001b[0m\n",
      "File \u001b[0;32m~/miniconda3/envs/animatediff/lib/python3.10/site-packages/pydantic/env_settings.py:76\u001b[0m, in \u001b[0;36mpydantic.env_settings.BaseSettings._build_values\u001b[0;34m()\u001b[0m\n",
      "File \u001b[0;32m~/code/animatediff-cli-prompt-travel/src/animatediff/settings.py:47\u001b[0m, in \u001b[0;36mJsonSettingsSource.__call__\u001b[0;34m(self, settings)\u001b[0m\n\u001b[1;32m     45\u001b[0m         logger\u001b[38;5;241m.\u001b[39mdebug(\u001b[38;5;124mf\u001b[39m\u001b[38;5;124m\"\u001b[39m\u001b[38;5;132;01m{\u001b[39;00mclassname\u001b[38;5;132;01m}\u001b[39;00m\u001b[38;5;124m: config state #\u001b[39m\u001b[38;5;132;01m{\u001b[39;00midx\u001b[38;5;241m+\u001b[39m\u001b[38;5;241m1\u001b[39m\u001b[38;5;132;01m}\u001b[39;00m\u001b[38;5;124m: \u001b[39m\u001b[38;5;132;01m{\u001b[39;00mmerged_config\u001b[38;5;132;01m}\u001b[39;00m\u001b[38;5;124m\"\u001b[39m)\n\u001b[1;32m     46\u001b[0m     \u001b[38;5;28;01melse\u001b[39;00m:\n\u001b[0;32m---> 47\u001b[0m         \u001b[38;5;28;01mraise\u001b[39;00m \u001b[38;5;167;01mFileNotFoundError\u001b[39;00m(\u001b[38;5;124mf\u001b[39m\u001b[38;5;124m\"\u001b[39m\u001b[38;5;132;01m{\u001b[39;00mclassname\u001b[38;5;132;01m}\u001b[39;00m\u001b[38;5;124m: config #\u001b[39m\u001b[38;5;132;01m{\u001b[39;00midx\u001b[38;5;241m+\u001b[39m\u001b[38;5;241m1\u001b[39m\u001b[38;5;132;01m}\u001b[39;00m\u001b[38;5;124m at \u001b[39m\u001b[38;5;132;01m{\u001b[39;00mpath\u001b[38;5;132;01m}\u001b[39;00m\u001b[38;5;124m not found or not a file\u001b[39m\u001b[38;5;124m\"\u001b[39m)\n\u001b[1;32m     49\u001b[0m logger\u001b[38;5;241m.\u001b[39mdebug(\u001b[38;5;124mf\u001b[39m\u001b[38;5;124m\"\u001b[39m\u001b[38;5;132;01m{\u001b[39;00mclassname\u001b[38;5;132;01m}\u001b[39;00m\u001b[38;5;124m: loaded config: \u001b[39m\u001b[38;5;132;01m{\u001b[39;00mmerged_config\u001b[38;5;132;01m}\u001b[39;00m\u001b[38;5;124m\"\u001b[39m)\n\u001b[1;32m     50\u001b[0m \u001b[38;5;28;01mreturn\u001b[39;00m merged_config\n",
      "\u001b[0;31mFileNotFoundError\u001b[0m: ModelConfig: config #1 at /home/ishpuntov/code/animatediff-cli-prompt-travel/src/animatediff/config/prompts/01-ToonYou.json not found or not a file"
     ]
    }
   ],
   "source": [
    "generate(\n",
    "    \n",
    "    config/prompts/01-ToonYou.json'\n",
    ")"
   ]
  },
  {
   "cell_type": "code",
   "execution_count": null,
   "id": "95613ed0",
   "metadata": {},
   "outputs": [],
   "source": []
  },
  {
   "cell_type": "code",
   "execution_count": null,
   "id": "f413492f",
   "metadata": {},
   "outputs": [],
   "source": []
  },
  {
   "cell_type": "code",
   "execution_count": null,
   "id": "5bf9d337",
   "metadata": {},
   "outputs": [],
   "source": []
  },
  {
   "cell_type": "code",
   "execution_count": null,
   "id": "4a5f524b",
   "metadata": {},
   "outputs": [],
   "source": []
  },
  {
   "cell_type": "code",
   "execution_count": null,
   "id": "c691a6bb",
   "metadata": {},
   "outputs": [],
   "source": []
  },
  {
   "cell_type": "code",
   "execution_count": null,
   "id": "662e576f",
   "metadata": {},
   "outputs": [],
   "source": []
  },
  {
   "cell_type": "code",
   "execution_count": null,
   "id": "14371697",
   "metadata": {},
   "outputs": [],
   "source": []
  }
 ],
 "metadata": {
  "kernelspec": {
   "display_name": "Python 3 (ipykernel)",
   "language": "python",
   "name": "python3"
  },
  "language_info": {
   "codemirror_mode": {
    "name": "ipython",
    "version": 3
   },
   "file_extension": ".py",
   "mimetype": "text/x-python",
   "name": "python",
   "nbconvert_exporter": "python",
   "pygments_lexer": "ipython3",
   "version": "3.10.13"
  },
  "varInspector": {
   "cols": {
    "lenName": 16,
    "lenType": 16,
    "lenVar": 40
   },
   "kernels_config": {
    "python": {
     "delete_cmd_postfix": "",
     "delete_cmd_prefix": "del ",
     "library": "var_list.py",
     "varRefreshCmd": "print(var_dic_list())"
    },
    "r": {
     "delete_cmd_postfix": ") ",
     "delete_cmd_prefix": "rm(",
     "library": "var_list.r",
     "varRefreshCmd": "cat(var_dic_list()) "
    }
   },
   "types_to_exclude": [
    "module",
    "function",
    "builtin_function_or_method",
    "instance",
    "_Feature"
   ],
   "window_display": false
  }
 },
 "nbformat": 4,
 "nbformat_minor": 5
}
